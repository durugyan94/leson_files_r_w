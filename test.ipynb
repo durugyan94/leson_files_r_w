{
 "cells": [
  {
   "cell_type": "code",
   "execution_count": 2,
   "metadata": {},
   "outputs": [
    {
     "name": "stdout",
     "output_type": "stream",
     "text": [
      "{'Омлет': [{'ingredient_name': 'Яйцо', 'quantity': 2, 'measure': 'шт'}, {'ingredient_name': 'Молоко', 'quantity': 100, 'measure': 'мл'}, {'ingredient_name': 'Помидор', 'quantity': 2, 'measure': 'шт'}], 'Утка по-пекински': [{'ingredient_name': 'Утка', 'quantity': 1, 'measure': 'шт'}, {'ingredient_name': 'Вода', 'quantity': 2, 'measure': 'л'}, {'ingredient_name': 'Мед', 'quantity': 3, 'measure': 'ст.л'}, {'ingredient_name': 'Соевый соус', 'quantity': 60, 'measure': 'мл'}], 'Запеченный картофель': [{'ingredient_name': 'Картофель', 'quantity': 1, 'measure': 'кг'}, {'ingredient_name': 'Чеснок', 'quantity': 3, 'measure': 'зубч'}, {'ingredient_name': 'Сыр гауда', 'quantity': 100, 'measure': 'г'}], 'Фахитос': [{'ingredient_name': 'Говядина', 'quantity': 500, 'measure': 'г'}, {'ingredient_name': 'Перец сладкий', 'quantity': 1, 'measure': 'шт'}, {'ingredient_name': 'Лаваш', 'quantity': 2, 'measure': 'шт'}, {'ingredient_name': 'Винный уксус', 'quantity': 1, 'measure': 'ст.л'}, {'ingredient_name': 'Помидор', 'quantity': 2, 'measure': 'шт'}]}\n"
     ]
    }
   ],
   "source": [
    "cook_book = dict() \n",
    "with open (\"cook.txt\", \"r\", encoding=\"utf-8\") as cook_list: \n",
    "    for line in cook_list: \n",
    "        cook_dict = {line.strip():[]} \n",
    "        cook_count = cook_list.readline() \n",
    "        for i in range(int(cook_count)): \n",
    "            emp = cook_list.readline() \n",
    "            ingredient_name, quantity, measure = emp.split(\" | \") \n",
    "            employee = {\"ingredient_name\": ingredient_name, \"quantity\": int(quantity), \"measure\": measure.strip()} \n",
    "            cook_dict[line.strip()].append(employee) \n",
    "        cook_list.readline() \n",
    "        cook_book.update(cook_dict) \n",
    "\n",
    "print(cook_book)"
   ]
  },
  {
   "cell_type": "code",
   "execution_count": 3,
   "metadata": {},
   "outputs": [
    {
     "data": {
      "text/plain": [
       "{'Яйцо': {'quantity': 6, 'measure': 'шт'},\n",
       " 'Молоко': {'quantity': 300, 'measure': 'мл'},\n",
       " 'Помидор': {'quantity': 6, 'measure': 'шт'},\n",
       " 'Говядина': {'quantity': 1500, 'measure': 'г'},\n",
       " 'Перец сладкий': {'quantity': 3, 'measure': 'шт'},\n",
       " 'Лаваш': {'quantity': 6, 'measure': 'шт'},\n",
       " 'Винный уксус': {'quantity': 3, 'measure': 'ст.л'}}"
      ]
     },
     "execution_count": 3,
     "metadata": {},
     "output_type": "execute_result"
    }
   ],
   "source": [
    "dishes = []\n",
    "person_count = None\n",
    "\n",
    "def get_shop_list_by_dishes(dishes, person_count):\n",
    "    dishes_dict = dict()\n",
    "    for dishe in dishes:\n",
    "        if dishe in cook_book:\n",
    "            for ingredients in cook_book[dishe]:\n",
    "                quantity_1 = (ingredients[\"quantity\"] * person_count)\n",
    "                dishes_dict.update({ingredients[\"ingredient_name\"]:{\"quantity\":quantity_1, \"measure\":ingredients[\"measure\"]}})\n",
    "    return dishes_dict\n",
    "\n",
    "get_shop_list_by_dishes([\"Омлет\", \"Фахитос\"], 3)"
   ]
  },
  {
   "cell_type": "code",
   "execution_count": 4,
   "metadata": {},
   "outputs": [],
   "source": [
    "import os\n",
    "from os.path import join\n",
    "content = []\n",
    "\n",
    "for root, dirs, files in os.walk('c:/Netology/leson_files_r_w/dz_'):\n",
    "    lln = 0\n",
    "    for file in files:\n",
    "        with open(join(root, file), \"r\", encoding=\"utf-8\") as f:\n",
    "            raw = f.read()\n",
    "            ln = len(raw)\n",
    "            new_raw = f\"{file}\\n{ln}\\n{raw.strip()}\\r\"\n",
    "            if ln > lln:\n",
    "                content.append(new_raw)\n",
    "            else:\n",
    "                content.insert(0, new_raw)\n",
    "            lln = ln\n",
    "\n",
    "with open('c:/Netology/leson_files_r_w/1_2_3.txt', 'w', encoding=\"utf-8\") as f:\n",
    "    f.write(\" \".join(content))"
   ]
  }
 ],
 "metadata": {
  "kernelspec": {
   "display_name": "Python 3.7.8 32-bit",
   "language": "python",
   "name": "python3"
  },
  "language_info": {
   "codemirror_mode": {
    "name": "ipython",
    "version": 3
   },
   "file_extension": ".py",
   "mimetype": "text/x-python",
   "name": "python",
   "nbconvert_exporter": "python",
   "pygments_lexer": "ipython3",
   "version": "3.7.8"
  },
  "orig_nbformat": 4,
  "vscode": {
   "interpreter": {
    "hash": "00d97ca72b701e15edcc477f512b1aaa24555d9edac289093a3b05447db8b434"
   }
  }
 },
 "nbformat": 4,
 "nbformat_minor": 2
}
